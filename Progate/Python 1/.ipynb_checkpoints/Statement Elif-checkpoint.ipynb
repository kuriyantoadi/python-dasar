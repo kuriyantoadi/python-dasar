{
 "cells": [
  {
   "cell_type": "markdown",
   "id": "9c45f606",
   "metadata": {},
   "source": [
    "Variable berikut sudah tersedia untuk Anda:\n",
    "\n",
    "・money\n",
    "\n",
    "・apple_price\n",
    "\n",
    "\n",
    "Selain itu, statement if-else mengenai kedua variable telah ditambahkan.\n"
   ]
  },
  {
   "cell_type": "code",
   "execution_count": null,
   "id": "1bdf64e5",
   "metadata": {},
   "outputs": [],
   "source": [
    "money = 2\n",
    "apple_price = 2\n",
    "\n",
    "if money > apple_price:\n",
    "    print('Anda dapat membeli apel')\n",
    "# Ketika kedua variable memiliki nilai yang sama, cetak 'Anda dapat membeli apel tetapi dompet Anda akan menjadi kosong'\n",
    "elif money == apple_price:\n",
    "    print('Anda dapat membeli apel tetapi dompet Anda akan menjadi kosong')\n",
    "\n",
    "else:\n",
    "    print('Uang Anda tidak mencukupi')"
   ]
  }
 ],
 "metadata": {
  "kernelspec": {
   "display_name": "Python 3 (ipykernel)",
   "language": "python",
   "name": "python3"
  },
  "language_info": {
   "codemirror_mode": {
    "name": "ipython",
    "version": 3
   },
   "file_extension": ".py",
   "mimetype": "text/x-python",
   "name": "python",
   "nbconvert_exporter": "python",
   "pygments_lexer": "ipython3",
   "version": "3.9.7"
  }
 },
 "nbformat": 4,
 "nbformat_minor": 5
}

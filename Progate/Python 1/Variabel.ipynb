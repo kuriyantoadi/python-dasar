{
 "cells": [
  {
   "cell_type": "markdown",
   "id": "ef805d4d",
   "metadata": {},
   "source": [
    "Selanjutnya, kita akan belajar mengenai variable. Variable dapat diumpamakan seperti kotak yang memiliki nama dimana Anda dapat menyimpan nilai."
   ]
  },
  {
   "cell_type": "code",
   "execution_count": null,
   "id": "087cb64a",
   "metadata": {},
   "outputs": [],
   "source": [
    "# Tetapkan 'Bob' ke variable name\n",
    "name='Bob'\n",
    "\n",
    "# Cetak nilai dari variable name\n",
    "print(name)\n",
    "\n",
    "# Tetapkan 7 ke variable number\n",
    "number=7\n",
    "\n",
    "# Cetak nilai dari variable number\n",
    "print(number)"
   ]
  }
 ],
 "metadata": {
  "kernelspec": {
   "display_name": "Python 3 (ipykernel)",
   "language": "python",
   "name": "python3"
  },
  "language_info": {
   "codemirror_mode": {
    "name": "ipython",
    "version": 3
   },
   "file_extension": ".py",
   "mimetype": "text/x-python",
   "name": "python",
   "nbconvert_exporter": "python",
   "pygments_lexer": "ipython3",
   "version": "3.9.7"
  }
 },
 "nbformat": 4,
 "nbformat_minor": 5
}

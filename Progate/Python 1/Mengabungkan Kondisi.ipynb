{
 "cells": [
  {
   "cell_type": "markdown",
   "id": "a6093228",
   "metadata": {},
   "source": [
    "Mari menggabungkan ekspresi untuk membuat statement if yang kompleks.\n",
    "Variable x, y, dan z telah tersedia untuk Anda."
   ]
  },
  {
   "cell_type": "code",
   "execution_count": null,
   "id": "22b9bc27",
   "metadata": {},
   "outputs": [],
   "source": [
    "x = 20\n",
    "# Jika x berkisar antara 10 dan 30 (inklusif), cetak 'x berkisar antara 10 dan 30'\n",
    "if 10 <= x and x <= 30:\n",
    "    print('x berkisar antara 10 dan 30')\n",
    "\n",
    "\n",
    "y = 60\n",
    "# Jika y lebih kecil dari 10 atau lebih besar dari 30, cetak 'y lebih kecil dari 10 atau lebih besar dari 30'\n",
    "if y < 10 or y > 30:\n",
    "    print('y lebih kecil dari 10 atau lebih besar dari 30 ')\n",
    "\n",
    "z = 55\n",
    "# Jika z tidak sama dengan 77, print 'z bukan 77'\n",
    "if not z == 77:\n",
    "    print('z bukan 77')\n"
   ]
  }
 ],
 "metadata": {
  "kernelspec": {
   "display_name": "Python 3 (ipykernel)",
   "language": "python",
   "name": "python3"
  },
  "language_info": {
   "codemirror_mode": {
    "name": "ipython",
    "version": 3
   },
   "file_extension": ".py",
   "mimetype": "text/x-python",
   "name": "python",
   "nbconvert_exporter": "python",
   "pygments_lexer": "ipython3",
   "version": "3.9.7"
  }
 },
 "nbformat": 4,
 "nbformat_minor": 5
}

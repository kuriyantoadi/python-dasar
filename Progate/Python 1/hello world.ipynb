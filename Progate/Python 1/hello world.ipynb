{
 "cells": [
  {
   "cell_type": "markdown",
   "id": "969dfa18",
   "metadata": {},
   "source": [
    "Ini adalah contoh pertama dari bahasa python"
   ]
  },
  {
   "cell_type": "code",
   "execution_count": null,
   "id": "e3ab974d",
   "metadata": {},
   "outputs": [],
   "source": [
    "print('Hello World')"
   ]
  }
 ],
 "metadata": {
  "kernelspec": {
   "display_name": "Python 3 (ipykernel)",
   "language": "python",
   "name": "python3"
  },
  "language_info": {
   "codemirror_mode": {
    "name": "ipython",
    "version": 3
   },
   "file_extension": ".py",
   "mimetype": "text/x-python",
   "name": "python",
   "nbconvert_exporter": "python",
   "pygments_lexer": "ipython3",
   "version": "3.9.7"
  }
 },
 "nbformat": 4,
 "nbformat_minor": 5
}

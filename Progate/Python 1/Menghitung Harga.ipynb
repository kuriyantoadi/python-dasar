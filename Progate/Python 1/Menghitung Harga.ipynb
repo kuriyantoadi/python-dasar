{
 "cells": [
  {
   "cell_type": "markdown",
   "id": "173914a9",
   "metadata": {},
   "source": [
    "Kita akan membuat aplikasi belanja mulai dari sini!\n",
    "\n",
    "Mari jalankan console Jawaban Benar terlebih dahulu untuk mendapatkan gambaran besar akan apa yang akan Anda kerjakan.\n",
    "\n",
    "Setelah selesai, kita akan mulai mendefinisikan beberapa variable."
   ]
  },
  {
   "cell_type": "code",
   "execution_count": 1,
   "id": "fcc059af",
   "metadata": {},
   "outputs": [
    {
     "name": "stdout",
     "output_type": "stream",
     "text": [
      "Anda akan membeli 5apel\n",
      "Harga total adalah10dolar\n"
     ]
    }
   ],
   "source": [
    "# Berikan 2 ke variable apple_price \n",
    "apple_price = 2\n",
    "\n",
    "# Berikan 5 ke variable count \n",
    "count = 5\n",
    "\n",
    "# Berikan hasil dari apple_price * count ke variable total_price \n",
    "total_price = apple_price * count\n",
    "\n",
    "# Dengan menggunakan variable count, cetak 'Anda akan membeli .. apel'\n",
    "print('Anda akan membeli ' + str(count) + 'apel')\n",
    "\n",
    "# Dengan menggunakan variable total_price, cetak 'Harga total adalah .. dolar'\n",
    "print('Harga total adalah' + str(total_price) + 'dolar')"
   ]
  },
  {
   "cell_type": "code",
   "execution_count": null,
   "id": "a930c05d",
   "metadata": {},
   "outputs": [],
   "source": []
  }
 ],
 "metadata": {
  "kernelspec": {
   "display_name": "Python 3 (ipykernel)",
   "language": "python",
   "name": "python3"
  },
  "language_info": {
   "codemirror_mode": {
    "name": "ipython",
    "version": 3
   },
   "file_extension": ".py",
   "mimetype": "text/x-python",
   "name": "python",
   "nbconvert_exporter": "python",
   "pygments_lexer": "ipython3",
   "version": "3.9.7"
  }
 },
 "nbformat": 4,
 "nbformat_minor": 5
}

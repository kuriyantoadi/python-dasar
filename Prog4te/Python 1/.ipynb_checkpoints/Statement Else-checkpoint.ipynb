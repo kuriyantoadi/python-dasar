{
 "cells": [
  {
   "cell_type": "markdown",
   "id": "8f2b6b67",
   "metadata": {},
   "source": [
    "Variable berikut sudah tersedia untuk Anda:\n",
    "・money\n",
    "・apple_price\n",
    "Selain itu, statement if yang menggunakan dua variable tersebut telah ditambahkan.\n",
    "\n"
   ]
  },
  {
   "cell_type": "code",
   "execution_count": null,
   "id": "7e0338d6",
   "metadata": {},
   "outputs": [],
   "source": [
    "money = 2\n",
    "apple_price = 4\n",
    "\n",
    "if money >= apple_price:\n",
    "    print('Anda dapat membeli apel')\n",
    "# Ketika kondisi di atas adalah False, cetak 'Uang Anda tidak mencukupi'\n",
    "else:\n",
    "  print('Uang Anda tidak mencukupi')\n"
   ]
  }
 ],
 "metadata": {
  "kernelspec": {
   "display_name": "Python 3 (ipykernel)",
   "language": "python",
   "name": "python3"
  },
  "language_info": {
   "codemirror_mode": {
    "name": "ipython",
    "version": 3
   },
   "file_extension": ".py",
   "mimetype": "text/x-python",
   "name": "python",
   "nbconvert_exporter": "python",
   "pygments_lexer": "ipython3",
   "version": "3.9.7"
  }
 },
 "nbformat": 4,
 "nbformat_minor": 5
}

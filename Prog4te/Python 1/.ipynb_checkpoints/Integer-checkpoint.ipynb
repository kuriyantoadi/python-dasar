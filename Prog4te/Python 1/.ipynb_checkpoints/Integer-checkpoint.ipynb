{
 "cells": [
  {
   "cell_type": "markdown",
   "id": "b53e91ba",
   "metadata": {},
   "source": [
    "Ini adalah contoh bagian integer. Integer artinya sebuah angka yang dapat di operasikan matematika"
   ]
  },
  {
   "cell_type": "code",
   "execution_count": 1,
   "id": "54e0d755",
   "metadata": {},
   "outputs": [
    {
     "name": "stdout",
     "output_type": "stream",
     "text": [
      "7\n",
      "12\n",
      "9+3\n"
     ]
    }
   ],
   "source": [
    "# Cetak 7 sebagai sebuah integer\n",
    "print(7)\n",
    "\n",
    "# Cetak penjumlahan dari 9 dan 3\n",
    "print(9+3)\n",
    "\n",
    "# Cetak '9 + 3' sebagai string\n",
    "print('9+3')"
   ]
  }
 ],
 "metadata": {
  "kernelspec": {
   "display_name": "Python 3 (ipykernel)",
   "language": "python",
   "name": "python3"
  },
  "language_info": {
   "codemirror_mode": {
    "name": "ipython",
    "version": 3
   },
   "file_extension": ".py",
   "mimetype": "text/x-python",
   "name": "python",
   "nbconvert_exporter": "python",
   "pygments_lexer": "ipython3",
   "version": "3.9.7"
  }
 },
 "nbformat": 4,
 "nbformat_minor": 5
}

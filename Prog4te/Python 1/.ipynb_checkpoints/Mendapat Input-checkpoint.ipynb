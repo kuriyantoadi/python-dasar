{
 "cells": [
  {
   "cell_type": "markdown",
   "id": "44bf72e0",
   "metadata": {},
   "source": [
    "Mari memodifikasi aplikasi untuk mendapatkan input dari pengguna.\n",
    "Jika Anda ingin melihat bagaimana input() bekerja, coba jalankan code pada console Jawaban Benar! "
   ]
  },
  {
   "cell_type": "code",
   "execution_count": null,
   "id": "cf608e33",
   "metadata": {},
   "outputs": [],
   "source": [
    "apple_price = 2\n",
    "\n",
    "# Terima jumlah apel dengan menggunakan input(), dan berikan hasilnya ke variable input_count \n",
    "input_count = input('Mau berapa apel?: ')\n",
    "\n",
    "# Ubah variable input_count ke integer, dan berikan hasilnya ke variable count \n",
    "count = int(input_count)\n",
    "total_price = apple_price * count\n",
    "\n",
    "print('Anda akan membeli ' + str(count) + ' apel')\n",
    "print('Harga total adalah ' + str(total_price) + ' dolar')"
   ]
  }
 ],
 "metadata": {
  "kernelspec": {
   "display_name": "Python 3 (ipykernel)",
   "language": "python",
   "name": "python3"
  },
  "language_info": {
   "codemirror_mode": {
    "name": "ipython",
    "version": 3
   },
   "file_extension": ".py",
   "mimetype": "text/x-python",
   "name": "python",
   "nbconvert_exporter": "python",
   "pygments_lexer": "ipython3",
   "version": "3.9.7"
  }
 },
 "nbformat": 4,
 "nbformat_minor": 5
}

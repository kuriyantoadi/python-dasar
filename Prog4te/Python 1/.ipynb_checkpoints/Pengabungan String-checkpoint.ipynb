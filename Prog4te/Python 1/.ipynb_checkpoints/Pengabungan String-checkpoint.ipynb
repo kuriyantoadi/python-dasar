{
 "cells": [
  {
   "cell_type": "markdown",
   "id": "096f66f1",
   "metadata": {},
   "source": [
    "Gunakan penggabungan string dan variable my_name, cetak \"Nama saya Bob\"."
   ]
  },
  {
   "cell_type": "code",
   "execution_count": null,
   "id": "a83b6bf1",
   "metadata": {},
   "outputs": [],
   "source": [
    "# Tetapkan 'Bob' ke variable my_name \n",
    "my_name='Bob'\n",
    "\n",
    "# Cetak 'Nama saya Bob' dengan menggabungkan variable my_name dan sebuah string\n",
    "print('Nama saya' + my_name)"
   ]
  }
 ],
 "metadata": {
  "kernelspec": {
   "display_name": "Python 3 (ipykernel)",
   "language": "python",
   "name": "python3"
  },
  "language_info": {
   "codemirror_mode": {
    "name": "ipython",
    "version": 3
   },
   "file_extension": ".py",
   "mimetype": "text/x-python",
   "name": "python",
   "nbconvert_exporter": "python",
   "pygments_lexer": "ipython3",
   "version": "3.9.7"
  }
 },
 "nbformat": 4,
 "nbformat_minor": 5
}

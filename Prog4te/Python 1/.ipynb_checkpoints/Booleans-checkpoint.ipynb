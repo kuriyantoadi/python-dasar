{
 "cells": [
  {
   "cell_type": "markdown",
   "id": "4742ffc4",
   "metadata": {},
   "source": [
    "Gunakan statement if untuk memeriksa apakah x lebih besar dari 30, dan pastikan  \n",
    "x lebih besar dari 30 tidak di cetak. Variable money dan apple_price sudah disediakan untuk Anda."
   ]
  },
  {
   "cell_type": "code",
   "execution_count": null,
   "id": "c813cf9e",
   "metadata": {},
   "outputs": [],
   "source": [
    "x = 10\n",
    "# Jika x lebih besar dari 30, cetak 'x lebih besar dari 30'\n",
    "if x > 30:\n",
    "  print('x lebih besar dari 30')\n",
    "\n",
    "\n",
    "money = 5\n",
    "apple_price = 2\n",
    "# Jika money sama dengan atau lebih besar dari apple_price, cetak 'Anda dapat membeli apel'\n",
    "if money >= apple_price:\n",
    "  print('Anda dapat membeli apel')"
   ]
  }
 ],
 "metadata": {
  "kernelspec": {
   "display_name": "Python 3 (ipykernel)",
   "language": "python",
   "name": "python3"
  },
  "language_info": {
   "codemirror_mode": {
    "name": "ipython",
    "version": 3
   },
   "file_extension": ".py",
   "mimetype": "text/x-python",
   "name": "python",
   "nbconvert_exporter": "python",
   "pygments_lexer": "ipython3",
   "version": "3.9.7"
  }
 },
 "nbformat": 4,
 "nbformat_minor": 5
}

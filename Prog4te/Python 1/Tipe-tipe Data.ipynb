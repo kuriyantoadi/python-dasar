{
 "cells": [
  {
   "cell_type": "markdown",
   "id": "773b69bb",
   "metadata": {},
   "source": [
    "Sekarang mari kita coba untuk mengonversi tipe data integer ke tipe data string.\n",
    "\n",
    "Variable age sudah tersedia."
   ]
  },
  {
   "cell_type": "markdown",
   "id": "56008192",
   "metadata": {},
   "source": [
    "Sekarang mari kita coba untuk mengonversi tipe data string ke tipe data integer.\n",
    "\n",
    "Variable count sudah tersedia, namun kali ini string."
   ]
  },
  {
   "cell_type": "code",
   "execution_count": null,
   "id": "f9176994",
   "metadata": {},
   "outputs": [],
   "source": [
    "age = 24\n",
    "# Cetak 'Saya berusia 24 tahun' menggunakan variable age\n",
    "print('Saya berusia '+str(age)+' tahun')\n",
    "\n",
    "count = '5'\n",
    "# Ubah variable count ke tipe data integer, tambahkan 1, dan cetak hasilnya\n",
    "\n",
    "print(int(count)+1)"
   ]
  }
 ],
 "metadata": {
  "kernelspec": {
   "display_name": "Python 3 (ipykernel)",
   "language": "python",
   "name": "python3"
  },
  "language_info": {
   "codemirror_mode": {
    "name": "ipython",
    "version": 3
   },
   "file_extension": ".py",
   "mimetype": "text/x-python",
   "name": "python",
   "nbconvert_exporter": "python",
   "pygments_lexer": "ipython3",
   "version": "3.9.7"
  }
 },
 "nbformat": 4,
 "nbformat_minor": 5
}

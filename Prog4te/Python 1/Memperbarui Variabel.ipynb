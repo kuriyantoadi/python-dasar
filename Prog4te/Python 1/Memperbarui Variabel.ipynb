{
 "cells": [
  {
   "cell_type": "markdown",
   "id": "0fbd8232",
   "metadata": {},
   "source": [
    "Variable money sudah disiapkan untuk Anda.\n",
    "Mari jalankan code terlebih dahulu untuk melihat bahwa nilai dari variable money adalah 20.\n",
    "Kita akan memperbarui nilainya nanti."
   ]
  },
  {
   "cell_type": "code",
   "execution_count": 2,
   "id": "31b07013",
   "metadata": {},
   "outputs": [
    {
     "name": "stdout",
     "output_type": "stream",
     "text": [
      "20\n",
      "70\n"
     ]
    }
   ],
   "source": [
    "money = 20\n",
    "print(money)\n",
    "\n",
    "# Tambahkan 50 ke variable money\n",
    "money += 50\n",
    "\n",
    "# Cetak nilai dari variable money\n",
    "print(money)"
   ]
  }
 ],
 "metadata": {
  "kernelspec": {
   "display_name": "Python 3 (ipykernel)",
   "language": "python",
   "name": "python3"
  },
  "language_info": {
   "codemirror_mode": {
    "name": "ipython",
    "version": 3
   },
   "file_extension": ".py",
   "mimetype": "text/x-python",
   "name": "python",
   "nbconvert_exporter": "python",
   "pygments_lexer": "ipython3",
   "version": "3.9.7"
  }
 },
 "nbformat": 4,
 "nbformat_minor": 5
}

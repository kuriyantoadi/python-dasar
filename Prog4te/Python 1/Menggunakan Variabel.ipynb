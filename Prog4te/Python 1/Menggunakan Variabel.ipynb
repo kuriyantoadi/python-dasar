{
 "cells": [
  {
   "cell_type": "markdown",
   "id": "2bbe589d",
   "metadata": {},
   "source": [
    "Anda dapat memilih nama apapun untuk variable, namun ada beberapa aturan yang harus diikuti.\n",
    "Contohnya, Anda tidak bisa mengawali nama variable dengan angka.\n",
    "Selain itu, jika nama variable terdiri dari lebih dari dua kata, seperti user_name, Anda harus memisahkannya dengan _."
   ]
  },
  {
   "cell_type": "code",
   "execution_count": null,
   "id": "9478c110",
   "metadata": {},
   "outputs": [],
   "source": [
    "apple_price = 2\n",
    "apple_count = 8\n",
    "\n",
    "# Berikan hasil dari apple_price * apple_count ke variable total_price \n",
    "print(apple_price * apple_count)\n",
    "\n",
    "# Cetak nilai dari variable total_price \n",
    "total_price=apple_price*apple_count\n",
    "print(total_price)\n"
   ]
  }
 ],
 "metadata": {
  "kernelspec": {
   "display_name": "Python 3 (ipykernel)",
   "language": "python",
   "name": "python3"
  },
  "language_info": {
   "codemirror_mode": {
    "name": "ipython",
    "version": 3
   },
   "file_extension": ".py",
   "mimetype": "text/x-python",
   "name": "python",
   "nbconvert_exporter": "python",
   "pygments_lexer": "ipython3",
   "version": "3.9.7"
  }
 },
 "nbformat": 4,
 "nbformat_minor": 5
}

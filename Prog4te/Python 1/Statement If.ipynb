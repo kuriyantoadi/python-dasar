{
 "cells": [
  {
   "cell_type": "markdown",
   "id": "50aa56c1",
   "metadata": {},
   "source": [
    "Variable x dan y sudah disediakan untuk Anda. \n",
    "\n",
    "Gunakan statement if untuk mencetak  x adalah 70 hanya jika x sama dengan 70."
   ]
  },
  {
   "cell_type": "code",
   "execution_count": null,
   "id": "14d5c9d4",
   "metadata": {},
   "outputs": [],
   "source": [
    "x = 7 * 10\n",
    "y = 5 * 6\n",
    "\n",
    "# Jika x sama dengan 70, cetak 'x adalah 70'\n",
    "if x == 70:\n",
    "  print('x adalah 70')\n",
    "\n",
    "# Jika y tidak sama dengan 40, cetak 'y bukan 40' \n",
    "if y != 40:\n",
    "  print('y bukan 40')"
   ]
  },
  {
   "cell_type": "code",
   "execution_count": null,
   "id": "9f8768a5",
   "metadata": {},
   "outputs": [],
   "source": []
  }
 ],
 "metadata": {
  "kernelspec": {
   "display_name": "Python 3 (ipykernel)",
   "language": "python",
   "name": "python3"
  },
  "language_info": {
   "codemirror_mode": {
    "name": "ipython",
    "version": 3
   },
   "file_extension": ".py",
   "mimetype": "text/x-python",
   "name": "python",
   "nbconvert_exporter": "python",
   "pygments_lexer": "ipython3",
   "version": "3.9.7"
  }
 },
 "nbformat": 4,
 "nbformat_minor": 5
}

{
 "cells": [
  {
   "cell_type": "code",
   "execution_count": null,
   "id": "039e371d",
   "metadata": {},
   "outputs": [],
   "source": [
    "Bagian Perhitungan, dengan menggunakan operasi matematika"
   ]
  },
  {
   "cell_type": "code",
   "execution_count": null,
   "id": "6649ae3f",
   "metadata": {},
   "outputs": [],
   "source": [
    "# Cetak hasil dari 9 / 2\n",
    "print(9/2)\n",
    "\n",
    "# Cetak hasil dar 7 * 5\n",
    "print(7*5)\n",
    "\n",
    "# Cetak sisa dari 5 dibagi 2 menggunakan %\n",
    "print(5%2)"
   ]
  }
 ],
 "metadata": {
  "kernelspec": {
   "display_name": "Python 3 (ipykernel)",
   "language": "python",
   "name": "python3"
  },
  "language_info": {
   "codemirror_mode": {
    "name": "ipython",
    "version": 3
   },
   "file_extension": ".py",
   "mimetype": "text/x-python",
   "name": "python",
   "nbconvert_exporter": "python",
   "pygments_lexer": "ipython3",
   "version": "3.9.7"
  }
 },
 "nbformat": 4,
 "nbformat_minor": 5
}

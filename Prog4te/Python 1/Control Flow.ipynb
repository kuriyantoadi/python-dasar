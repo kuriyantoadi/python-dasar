{
 "cells": [
  {
   "cell_type": "markdown",
   "id": "d7884139",
   "metadata": {},
   "source": [
    "Mari menggunakan statement if..elif..else untuk mencetak hasil berbeda berdasarkan perbandingan money dan total_price!"
   ]
  },
  {
   "cell_type": "code",
   "execution_count": null,
   "id": "8a68c89f",
   "metadata": {},
   "outputs": [],
   "source": [
    "apple_price = 2\n",
    "# Berikan 10 ke variable money \n",
    "money = 10\n",
    "\n",
    "input_count = input('Mau berapa apel?: ')\n",
    "count = int(input_count)\n",
    "total_price = apple_price * count\n",
    "\n",
    "print('Anda akan membeli ' + str(count) + ' apel')\n",
    "print('Harga total adalah ' + str(total_price) + ' dolar')\n",
    "\n",
    "# Tambahkan control flow berdasarkan perbandingan antara money dan total_price\n",
    "if money > total_price:\n",
    "    print('Anda telah membeli ' + str(count) + 'apel')\n",
    "    print('Uang Anda tinggal ' + str(money-total_price) + ' dolar' )\n",
    "elif money == total_price:\n",
    "    print('Anda telah membeli apel' + str(count) + 'apel')\n",
    "    print('Dompet anda kosong')\n",
    "else:\n",
    "    print('Uang Anda tidak mencukupi')\n",
    "    print('Anda tidak dapat membeli apel sebanyak itu')"
   ]
  }
 ],
 "metadata": {
  "kernelspec": {
   "display_name": "Python 3 (ipykernel)",
   "language": "python",
   "name": "python3"
  },
  "language_info": {
   "codemirror_mode": {
    "name": "ipython",
    "version": 3
   },
   "file_extension": ".py",
   "mimetype": "text/x-python",
   "name": "python",
   "nbconvert_exporter": "python",
   "pygments_lexer": "ipython3",
   "version": "3.9.7"
  }
 },
 "nbformat": 4,
 "nbformat_minor": 5
}
